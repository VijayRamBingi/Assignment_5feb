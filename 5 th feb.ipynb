{
 "cells": [
  {
   "cell_type": "markdown",
   "id": "166dd34d-01f1-4d2c-8fff-6bd368f097a2",
   "metadata": {},
   "source": [
    "#### Q1. Explain Class and Object with respect to Object-Oriented Programming. Give a suitable example."
   ]
  },
  {
   "cell_type": "markdown",
   "id": "d51977a8-33ca-4721-953b-e431473a8af7",
   "metadata": {},
   "source": [
    "##### ANS: In object-oriented programming (OOP), a class is a blueprint or template for creating objects. It defines the structure and behavior that its objects will have. A class encapsulates data (attributes) and the methods (functions) that operate on that data. An object, on the other hand, is an instance of a class. It is a concrete realization of the class, with its own unique data values but sharing the same structure and behavior defined by the class."
   ]
  },
  {
   "cell_type": "code",
   "execution_count": 1,
   "id": "6a00372f-064c-4edc-ba61-e8062478cd9e",
   "metadata": {},
   "outputs": [
    {
     "name": "stdout",
     "output_type": "stream",
     "text": [
      "Vijay Ram\n",
      "25\n",
      "Hello, my name is Vijay Ram and I am 25 years old.\n"
     ]
    }
   ],
   "source": [
    "class Person:\n",
    "    def __init__(self, name, age):\n",
    "        self.name = name\n",
    "        self.age = age\n",
    "    \n",
    "    def greet(self):\n",
    "        print(f\"Hello, my name is {self.name} and I am {self.age} years old.\")\n",
    "\n",
    "# Creating an object (instance) of the Person class\n",
    "person1 = Person(\"Vijay Ram\", 25)\n",
    "\n",
    "# Accessing attributes and using methods of the object\n",
    "print(person1.name)  # Output: Vijay Ram\n",
    "print(person1.age)   # Output: 25\n",
    "person1.greet()      # Output: Hello, my name is Vijay Ram and I am 25 years old.\n"
   ]
  },
  {
   "cell_type": "markdown",
   "id": "b1158b77-abe9-4893-8027-4e2f35c00a7d",
   "metadata": {},
   "source": [
    "##### In this example, the Person class has an __init__ method (a constructor) that initializes the name and age attributes of a person. It also has a greet method that prints out a simple greeting using the person's name and age.\n",
    "\n",
    "##### By creating an object person1 from the Person class, you can access its attributes (name and age) and use its methods (greet). The object person1 has its own unique data (name and age) but shares the same structure and behavior defined by the class."
   ]
  },
  {
   "cell_type": "raw",
   "id": "d6894063-9ae1-41b1-bff2-8bdade44dd97",
   "metadata": {},
   "source": []
  },
  {
   "cell_type": "markdown",
   "id": "8f62cf03-15ef-4503-b686-f9c7b6978b24",
   "metadata": {},
   "source": [
    "#### Q2. Name the four pillars of OOPs."
   ]
  },
  {
   "cell_type": "markdown",
   "id": "b889853a-e03c-4cfb-86ac-9dfd89ee9685",
   "metadata": {},
   "source": [
    "##### The four pillars of object-oriented programming (OOP) are:\n",
    "\n",
    "##### Encapsulation: Encapsulation refers to the bundling of data (attributes) and the methods (functions) that operate on that data into a single unit, known as a class. It allows you to control the access to data by providing public, private, and protected access modifiers. Encapsulation helps in keeping the implementation details hidden and provides a clear interface for interacting with the objects.\n",
    "\n",
    "##### Abstraction: Abstraction involves simplifying complex reality by modeling classes based on relevant attributes and behaviors. It allows you to focus on essential features while ignoring unnecessary details. In OOP, you can create abstract classes or interfaces that define the structure and common behavior, which concrete classes can then implement.\n",
    "\n",
    "##### Inheritance: Inheritance is a mechanism that allows a class (subclass or derived class) to inherit attributes and methods from another class (superclass or base class). It promotes code reuse and establishes a hierarchical relationship between classes. Subclasses can extend or override the behavior of the superclass, leading to a more organized and modular code structure.\n",
    "\n",
    "##### Polymorphism: Polymorphism allows objects of different classes to be treated as objects of a common superclass. It enables you to write code that can work with objects of multiple types without needing to know their specific classes. Polymorphism is achieved through method overriding and method overloading. Method overriding allows subclasses to provide their own implementation of methods inherited from the superclass, while method overloading allows multiple methods with the same name but different parameters to be defined within a class hierarchy.\n",
    "\n",
    "##### These four pillars provide a solid foundation for designing and structuring software systems using object-oriented principles."
   ]
  },
  {
   "cell_type": "raw",
   "id": "4723eda3-2ed0-4283-b94d-26195c0b6ac4",
   "metadata": {},
   "source": []
  },
  {
   "cell_type": "markdown",
   "id": "39b69b21-6b95-4e81-8fd3-5cd02ca1dc34",
   "metadata": {},
   "source": [
    "#### Q3. Explain why the __init__() function is used. Give a suitable example."
   ]
  },
  {
   "cell_type": "markdown",
   "id": "fe3dad6a-6e88-4ec2-acaa-378c7c91e5c7",
   "metadata": {},
   "source": [
    "##### ANS : The __init__() function, also known as the constructor, is used in object-oriented programming languages like Python to initialize the attributes (data members) of an object when it is created. It is called automatically when an object is instantiated from a class. The primary purpose of the __init__() function is to set up the initial state of the object by assigning values to its attributes."
   ]
  },
  {
   "cell_type": "code",
   "execution_count": 3,
   "id": "6a2ba453-93a9-48a8-b9de-1a3b8a424c82",
   "metadata": {},
   "outputs": [
    {
     "name": "stdout",
     "output_type": "stream",
     "text": [
      "Title: The Great Gatsby\n",
      "Author: F. Scott Fitzgerald\n"
     ]
    }
   ],
   "source": [
    "class Book:\n",
    "    def __init__(self, title, author):\n",
    "        self.title = title\n",
    "        self.author = author\n",
    "\n",
    "# Creating an object (instance) of the Book class\n",
    "book1 = Book(\"The Great Gatsby\", \"F. Scott Fitzgerald\")\n",
    "\n",
    "# Accessing attributes of the object\n",
    "print(\"Title:\", book1.title)    # Output: Title: The Great Gatsby\n",
    "print(\"Author:\", book1.author)  # Output: Author: F. Scott Fitzgerald"
   ]
  },
  {
   "cell_type": "markdown",
   "id": "3d44ba10-f7a6-4c85-b9a4-53fab9186d45",
   "metadata": {},
   "source": [
    "##### In this example, the Book class has an __init__() method that initializes the attributes title and author when a book object is created. When you create an object book1 from the Book class, the __init__() method is called with the provided title and author. This sets the initial values of the attributes for the book1 object.\n",
    "\n",
    "##### You can then access these attributes using the dot notation (object.attribute) to retrieve the information stored within the object. This simple example demonstrates how the __init__() function is used to initialize object attributes during instantiation."
   ]
  },
  {
   "cell_type": "raw",
   "id": "3e1bb6ec-0259-4773-a246-bb7dfc290d6e",
   "metadata": {},
   "source": []
  },
  {
   "cell_type": "markdown",
   "id": "2ea390c2-821b-442c-829b-4a593139e801",
   "metadata": {},
   "source": [
    "##### Q4. Why self is used in OOPs?"
   ]
  },
  {
   "cell_type": "markdown",
   "id": "f244db98-83b0-40e7-bce8-bfbd8901ede2",
   "metadata": {},
   "source": [
    "##### ANS : In object-oriented programming (OOP), self is a convention used to refer to the instance of the class within its methods. It is a way to access and modify the attributes and methods of the same instance that the method is being called on. The use of self allows you to differentiate between instance attributes and local variables, ensuring that you're working with the correct instance's data"
   ]
  },
  {
   "cell_type": "code",
   "execution_count": 5,
   "id": "8023ac92-c7fe-45a7-82f1-bbab08211eb1",
   "metadata": {},
   "outputs": [
    {
     "name": "stdout",
     "output_type": "stream",
     "text": [
      "Circle radius: 5\n",
      "Circle area: 78.5\n"
     ]
    }
   ],
   "source": [
    "class Circle:\n",
    "    def __init__(self, radius):\n",
    "        self.radius = radius\n",
    "    \n",
    "    def calculate_area(self):\n",
    "        return 3.14 * self.radius ** 2\n",
    "\n",
    "# Creating an object (instance) of the Circle class\n",
    "circle1 = Circle(5)\n",
    "\n",
    "# Accessing the instance attribute and using the method\n",
    "print(\"Circle radius:\", circle1.radius)         # Output: Circle radius: 5\n",
    "print(\"Circle area:\", circle1.calculate_area())  # Output: Circle area: 78.5\n"
   ]
  },
  {
   "cell_type": "markdown",
   "id": "a407a127-f076-42ad-aab4-7f172d01d2fb",
   "metadata": {},
   "source": [
    "##### In this example, the self.radius within the methods allows you to access the radius attribute of the specific instance (circle1) being worked on. Without self, the methods wouldn't know which instance's radius to access, and the code wouldn't be able to differentiate between instance data and local variables."
   ]
  },
  {
   "cell_type": "raw",
   "id": "8da7352f-3d48-4bf1-a4fb-27819f857a1b",
   "metadata": {},
   "source": []
  },
  {
   "cell_type": "markdown",
   "id": "3c0be475-2fa3-408d-bfdd-e4f92fc2df06",
   "metadata": {},
   "source": [
    "#### What is inheritance? Give an example for each type of inheritance."
   ]
  },
  {
   "cell_type": "markdown",
   "id": "521d62e9-e5da-4e49-ab6b-c5242e29a936",
   "metadata": {},
   "source": [
    "##### ANS : Inheritance is a fundamental concept in object-oriented programming (OOP) that allows a new class (subclass or derived class) to inherit attributes and methods from an existing class (superclass or base class). This promotes code reuse, modularity, and the creation of a hierarchy of related classes."
   ]
  },
  {
   "cell_type": "markdown",
   "id": "2ad9cce0-11f0-4d0f-ad41-f42c863d641c",
   "metadata": {},
   "source": [
    "##### Single Inheritance "
   ]
  },
  {
   "cell_type": "code",
   "execution_count": 7,
   "id": "ea872c00-9616-4250-b365-6e3e52b2d839",
   "metadata": {},
   "outputs": [],
   "source": [
    "class Animal:\n",
    "    def speak(self):\n",
    "        pass\n",
    "\n",
    "class Dog(Animal):\n",
    "    def speak(self):\n",
    "        return \"Woof!\""
   ]
  },
  {
   "cell_type": "markdown",
   "id": "749edee5-be8b-4098-b321-8579a990eacc",
   "metadata": {},
   "source": [
    "##### Multiple Inheritance:"
   ]
  },
  {
   "cell_type": "code",
   "execution_count": 8,
   "id": "6021f74e-e84b-4364-8103-da4dd0f22d9f",
   "metadata": {},
   "outputs": [],
   "source": [
    "class Flyer:\n",
    "    def fly(self):\n",
    "        pass\n",
    "\n",
    "class Swimmer:\n",
    "    def swim(self):\n",
    "        pass\n",
    "\n",
    "class Bird(Flyer, Swimmer):\n",
    "    pass"
   ]
  },
  {
   "cell_type": "markdown",
   "id": "a71b819f-5764-4033-a142-7356e78c5c2a",
   "metadata": {},
   "source": [
    "##### Multilevel Inheritance:"
   ]
  },
  {
   "cell_type": "code",
   "execution_count": 9,
   "id": "853ae216-639b-4131-84f1-72a4007d4267",
   "metadata": {},
   "outputs": [],
   "source": [
    "class Vehicle:\n",
    "    def drive(self):\n",
    "        pass\n",
    "\n",
    "class Car(Vehicle):\n",
    "    pass\n",
    "\n",
    "class SportsCar(Car):\n",
    "    pass"
   ]
  },
  {
   "cell_type": "markdown",
   "id": "bd7460d4-b9a2-4a94-888e-549a90181541",
   "metadata": {},
   "source": [
    "##### Hierarchical Inheritance:"
   ]
  },
  {
   "cell_type": "code",
   "execution_count": 10,
   "id": "c5be650b-7cf0-45da-9fd4-ba112e70ea91",
   "metadata": {},
   "outputs": [],
   "source": [
    "class Shape:\n",
    "    def area(self):\n",
    "        pass\n",
    "\n",
    "class Circle(Shape):\n",
    "    pass\n",
    "\n",
    "class Square(Shape):\n",
    "    pass\n"
   ]
  },
  {
   "cell_type": "markdown",
   "id": "09871bf3-1cf6-4606-9167-612291d8cbfc",
   "metadata": {},
   "source": [
    "##### Hybrid Inheritance:"
   ]
  },
  {
   "cell_type": "code",
   "execution_count": 11,
   "id": "65dba1cd-9976-4fb3-a977-2897f9a94bfd",
   "metadata": {},
   "outputs": [],
   "source": [
    "class Person:\n",
    "    def speak(self):\n",
    "        pass\n",
    "\n",
    "class Athlete(Person):\n",
    "    pass\n",
    "\n",
    "class Swimmer(Athlete):\n",
    "    pass\n",
    "\n",
    "class Student(Person):\n",
    "    pass\n",
    "\n",
    "class Scholar(Student):\n",
    "    pass\n"
   ]
  },
  {
   "cell_type": "code",
   "execution_count": null,
   "id": "008a58dd-b442-4a39-bd46-47abfc4f154b",
   "metadata": {},
   "outputs": [],
   "source": []
  }
 ],
 "metadata": {
  "kernelspec": {
   "display_name": "Python 3 (ipykernel)",
   "language": "python",
   "name": "python3"
  },
  "language_info": {
   "codemirror_mode": {
    "name": "ipython",
    "version": 3
   },
   "file_extension": ".py",
   "mimetype": "text/x-python",
   "name": "python",
   "nbconvert_exporter": "python",
   "pygments_lexer": "ipython3",
   "version": "3.10.8"
  }
 },
 "nbformat": 4,
 "nbformat_minor": 5
}
